{
 "cells": [
  {
   "cell_type": "code",
   "execution_count": null,
   "metadata": {},
   "outputs": [],
   "source": [
    "import pandas as pd"
   ]
  },
  {
   "cell_type": "code",
   "execution_count": null,
   "metadata": {},
   "outputs": [],
   "source": [
    "\"\"\"\n",
    "Weight free throw effect based on how many shots taken\n",
    "\"\"\"\n",
    "def ft_stat(player_percentage, player_attempts):\n",
    "    league_percentage = .85\n",
    "    return (player_percentage - league_percentage) * player_attempts\n",
    "\n",
    "\"\"\"\n",
    "Weight field goal effect based on how many shots taken\n",
    "\"\"\"\n",
    "def fg_stat(player_percentage, player_attempts):\n",
    "    league_percentage = .47\n",
    "    return (player_percentage - league_percentage) * player_attempts\n",
    "\n",
    "\"\"\"\n",
    "Turn players into list of dicts\n",
    "\"\"\"\n",
    "def create_player_list(players):\n",
    "    fg, ft = 0, 0\n",
    "    players_stats = {} #stats for a single player\n",
    "    new_players = [] #list of dicts that holds player and weighted ft and fg\n",
    "    for i in range(len(players)):\n",
    "        if i % 2 == 0:\n",
    "            player_stats = players[i][1].copy(deep=True).to_dict()\n",
    "        else:\n",
    "            ft = players[i][1][\"FT%\"]\n",
    "            fg = players[i][1][\"FG%\"]\n",
    "            ft = ft.split(\"/\")\n",
    "            fg = fg.split(\"/\")\n",
    "            ft_attempts = ft[1][:-1]\n",
    "            fg_attempts = fg[1][:-1]\n",
    "            player_stats[\"weighted_ft\"] = ft_stat(float(player_stats[\"FT%\"]), float(ft_attempts))\n",
    "            player_stats[\"weighted_fg\"] = fg_stat(float(player_stats[\"FG%\"]), float(fg_attempts))\n",
    "            new_players.append(player_stats)\n",
    "            player_stats = {}\n",
    "    return new_players\n",
    "\"\"\"\n",
    "Get a list of all players that were drafted. TODO: Change to lg instead of lg1 during the draft\n",
    "@return (list of str) - player names that were drafted\n",
    "\"\"\"\n",
    "def drafted():\n",
    "    list = []\n",
    "    for player in lg.taken_players():\n",
    "        list.append(player['name'])\n",
    "    return list\n",
    "\"\"\"\n",
    "Remove all drafted players from the dataframe\n",
    "pd (pandas dataframe) - dataframe of all available players\n",
    "drafted_players (List of str) - players that were drafted\n",
    "\"\"\"\n",
    "def remove_drafted_players(df, drafted_players):\n",
    "    return df[~df.PLAYER.isin(drafted_players)]\n",
    "\n",
    "#Turnovers should be negative to make it subtract from total_val\n",
    "required_stats = {\"FG%\": .47, \"FT%\": .798, \"3PM\": 1.17, \"PTS\": 15.137, \"TREB\": 6.241, \"AST\": 3.748, \"STL\": 1.132, \"BLK\": .862, \"TO\": -1.7}\n",
    "\n",
    "\"\"\"\n",
    "Albert's personal rankings that takes into considerations punts\n",
    "Ranking Methodology\n",
    "Number of Games played * by the following\n",
    "1. Value per stat\n",
    "2. Remove all categories I punt\n",
    "@param pd (pandas dataframe) - dataframe of all available players\n",
    "@param punts(list of str) - stats to punt\n",
    "\n",
    "@return pandas dataframe with additional column: Albert's ranking\n",
    "\"\"\"\n",
    "def alberts_ranking(df, punts):\n",
    "    df = df.to_dict('records')\n",
    "    for row in df:\n",
    "        total_val = 0\n",
    "        for stat in row.items():\n",
    "            if stat[0] in required_stats and stat[0] not in punts:\n",
    "                total_val += max(stat[1] / required_stats[stat[0]], 3)\n",
    "        row['total_val'] = total_val * row['GP']\n",
    "    return pd.DataFrame(df).sort_values(\"total_val\", ascending=False)\n"
   ]
  },
  {
   "cell_type": "code",
   "execution_count": null,
   "metadata": {
    "scrolled": true
   },
   "outputs": [],
   "source": [
    "from yahoo_oauth import OAuth2\n",
    "import json\n",
    "creds = {'consumer_key': \"dj0yJmk9U25NRHowdE16MFNHJmQ9WVdrOVNuaGtSa3RaYTBVbWNHbzlNQT09JnM9Y29uc3VtZXJzZWNyZXQmc3Y9MCZ4PTFh\", 'consumer_secret': 'd83900e9c38441740e701ea87bf4b437f07a501c'}\n",
    "with open(\"sample.json\", \"w\") as outfile:  \n",
    "    json.dump(creds, outfile) \n",
    "oauth = OAuth2(None, None, from_file='sample.json')\n",
    "\n",
    "import yahoo_fantasy_api\n",
    "lg = yahoo_fantasy_api.game.Game(oauth, \"nba\").to_league(\"402.l.5116\")\n",
    "\n",
    "lg1 = yahoo_fantasy_api.game.Game(oauth, \"nba\").to_league(\"402.l.441\")"
   ]
  },
  {
   "cell_type": "code",
   "execution_count": null,
   "metadata": {},
   "outputs": [],
   "source": [
    "players = pd.read_excel('hashtag.xlsx', index_col=0)\n",
    "\n",
    "alberts_players = players.copy(deep=True)\n",
    "players = [i for i in alberts_players.iterrows()]\n",
    "#Add weighted free throw and fg stats to table\n",
    "\n",
    "players = create_player_list(players)\n",
    "df = pd.DataFrame(players).sort_values(\"TOTAL\", ascending=False)\n",
    "df\n",
    "\n",
    "remove_drafted_players(df, drafted()).sort_values(\"weighted_fg\", ascending=False)"
   ]
  },
  {
   "cell_type": "code",
   "execution_count": null,
   "metadata": {},
   "outputs": [],
   "source": [
    "ranking = alberts_ranking(df, [])\n",
    "ranking"
   ]
  },
  {
   "cell_type": "code",
   "execution_count": null,
   "metadata": {},
   "outputs": [],
   "source": []
  }
 ],
 "metadata": {
  "kernelspec": {
   "display_name": "Python 3",
   "language": "python",
   "name": "python3"
  },
  "language_info": {
   "codemirror_mode": {
    "name": "ipython",
    "version": 3
   },
   "file_extension": ".py",
   "mimetype": "text/x-python",
   "name": "python",
   "nbconvert_exporter": "python",
   "pygments_lexer": "ipython3",
   "version": "3.7.3"
  }
 },
 "nbformat": 4,
 "nbformat_minor": 2
}
